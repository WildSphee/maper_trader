{
 "cells": [
  {
   "cell_type": "code",
   "execution_count": null,
   "id": "b0bc0753",
   "metadata": {},
   "outputs": [
    {
     "ename": "TypeError",
     "evalue": "HistoryManager.__init__() missing 1 required positional argument: 'start_str'",
     "output_type": "error",
     "traceback": [
      "\u001b[31m---------------------------------------------------------------------------\u001b[39m",
      "\u001b[31mTypeError\u001b[39m                                 Traceback (most recent call last)",
      "\u001b[36mCell\u001b[39m\u001b[36m \u001b[39m\u001b[32mIn[4]\u001b[39m\u001b[32m, line 11\u001b[39m\n\u001b[32m      6\u001b[39m load_dotenv()\n\u001b[32m      8\u001b[39m client = Client(api_key=os.getenv(\u001b[33m\"\u001b[39m\u001b[33mBINANCE_API_KEY\u001b[39m\u001b[33m\"\u001b[39m), api_secret=os.getenv(\u001b[33m\"\u001b[39m\u001b[33mBINANCE_API_SECRET\u001b[39m\u001b[33m\"\u001b[39m))\n\u001b[32m---> \u001b[39m\u001b[32m11\u001b[39m hm = \u001b[43mHistoryManager\u001b[49m\u001b[43m(\u001b[49m\n\u001b[32m     12\u001b[39m \u001b[43m    \u001b[49m\u001b[43mclient\u001b[49m\u001b[43m=\u001b[49m\u001b[43mclient\u001b[49m\u001b[43m,\u001b[49m\n\u001b[32m     13\u001b[39m \u001b[43m    \u001b[49m\u001b[43msymbol\u001b[49m\u001b[43m=\u001b[49m\u001b[33;43m\"\u001b[39;49m\u001b[33;43mBTCUSDT\u001b[39;49m\u001b[33;43m\"\u001b[39;49m\u001b[43m,\u001b[49m\n\u001b[32m     14\u001b[39m \u001b[43m    \u001b[49m\u001b[43minterval\u001b[49m\u001b[43m=\u001b[49m\u001b[33;43m\"\u001b[39;49m\u001b[33;43m1h\u001b[39;49m\u001b[33;43m\"\u001b[39;49m\u001b[43m,\u001b[49m\n\u001b[32m     15\u001b[39m \u001b[43m    \u001b[49m\u001b[43mtimelag\u001b[49m\u001b[43m=\u001b[49m\u001b[32;43m16\u001b[39;49m\n\u001b[32m     16\u001b[39m \u001b[43m)\u001b[49m\n",
      "\u001b[31mTypeError\u001b[39m: HistoryManager.__init__() missing 1 required positional argument: 'start_str'"
     ]
    }
   ],
   "source": [
    "from managers.history_manager import HistoryManager\n",
    "from binance.client import Client\n",
    "from dotenv import load_dotenv\n",
    "import os\n",
    "\n",
    "load_dotenv()\n",
    "\n",
    "client = Client(api_key=os.getenv(\"BINANCE_API_KEY\"), api_secret=os.getenv(\"BINANCE_API_SECRET\"))\n",
    "\n",
    "\n",
    "hm = HistoryManager(\n",
    "    client=client,\n",
    "    start_str=\"1 Jan, 2023\",\n",
    "    symbol=\"BTCUSDT\",\n",
    "    interval=\"1h\",\n",
    "    timelag=16\n",
    ")\n"
   ]
  },
  {
   "cell_type": "code",
   "execution_count": null,
   "id": "6eaf66f0",
   "metadata": {},
   "outputs": [],
   "source": []
  }
 ],
 "metadata": {
  "kernelspec": {
   "display_name": "venv",
   "language": "python",
   "name": "python3"
  },
  "language_info": {
   "codemirror_mode": {
    "name": "ipython",
    "version": 3
   },
   "file_extension": ".py",
   "mimetype": "text/x-python",
   "name": "python",
   "nbconvert_exporter": "python",
   "pygments_lexer": "ipython3",
   "version": "3.13.5"
  }
 },
 "nbformat": 4,
 "nbformat_minor": 5
}
