{
 "cells": [
  {
   "cell_type": "code",
   "execution_count": 1,
   "id": "b0bc0753",
   "metadata": {},
   "outputs": [],
   "source": [
    "from managers.history_manager import HistoryManager\n",
    "from managers.model_manager import ModelManager\n",
    "from binance.client import Client\n",
    "from dotenv import load_dotenv\n",
    "import os\n",
    "\n",
    "load_dotenv()\n",
    "\n",
    "client = Client(api_key=os.getenv(\"BINANCE_API_KEY\"), api_secret=os.getenv(\"BINANCE_API_SECRET\"))\n",
    "\n",
    "\n",
    "hm = HistoryManager(\n",
    "    client=client,\n",
    "    start_str=\"1 Jan, 2023\",\n",
    "    symbol=\"BTCUSDT\",\n",
    "    interval=\"4h\",\n",
    "    timelag=12\n",
    ")\n",
    "\n",
    "X, y_cls, y_reg = hm.dataset_dual\n",
    "\n",
    "mm = ModelManager(predictor_cols=list(X.columns), cls_name=\"hgb\", reg_name=\"hgb\", random_state=42)\n"
   ]
  },
  {
   "cell_type": "code",
   "execution_count": 2,
   "id": "6eaf66f0",
   "metadata": {},
   "outputs": [
    {
     "data": {
      "text/plain": [
       "1759060800000"
      ]
     },
     "execution_count": 2,
     "metadata": {},
     "output_type": "execute_result"
    }
   ],
   "source": [
    "hm.last_closed_open_time_ms"
   ]
  },
  {
   "cell_type": "code",
   "execution_count": 3,
   "id": "4b6a9196",
   "metadata": {},
   "outputs": [
    {
     "name": "stdout",
     "output_type": "stream",
     "text": [
      "<class 'pandas.core.frame.DataFrame'>\n",
      "Index: 5977 entries, 1673006400000 to 1759060800000\n",
      "Data columns (total 41 columns):\n",
      " #   Column                               Non-Null Count  Dtype  \n",
      "---  ------                               --------------  -----  \n",
      " 0   EMA                                  5977 non-null   float64\n",
      " 1   MINUSDM                              5977 non-null   float64\n",
      " 2   PLUSDM                               5977 non-null   float64\n",
      " 3   CLOSE                                5977 non-null   float64\n",
      " 4   CLOSEL1                              5977 non-null   float64\n",
      " 5   CLOSEL2                              5977 non-null   float64\n",
      " 6   PATT_3OUT                            5977 non-null   float64\n",
      " 7   PATT_CMB                             5977 non-null   float64\n",
      " 8   RSI                                  5977 non-null   float64\n",
      " 9   MACD                                 5977 non-null   float64\n",
      " 10  MACD_SIGNAL                          5977 non-null   float64\n",
      " 11  MACD_HIST                            5977 non-null   float64\n",
      " 12  ADX                                  5977 non-null   float64\n",
      " 13  ATR                                  5977 non-null   float64\n",
      " 14  NATR                                 5977 non-null   float64\n",
      " 15  BB_UPPER                             5977 non-null   float64\n",
      " 16  BB_MIDDLE                            5977 non-null   float64\n",
      " 17  BB_LOWER                             5977 non-null   float64\n",
      " 18  BB_WIDTH                             5977 non-null   float64\n",
      " 19  OBV                                  5977 non-null   float64\n",
      " 20  MFI                                  5977 non-null   float64\n",
      " 21  AD                                   5977 non-null   float64\n",
      " 22  ADOSC                                5977 non-null   float64\n",
      " 23  STOCH_K                              5977 non-null   float64\n",
      " 24  STOCH_D                              5977 non-null   float64\n",
      " 25  fng_ordinal_smooth                   5977 non-null   float64\n",
      " 26  fng_ordinal_smooth_int               5977 non-null   Int64  \n",
      " 27  unique_addresses_used_smooth         5977 non-null   float64\n",
      " 28  confirmed_tx_per_day_smooth          5977 non-null   float64\n",
      " 29  output_value_per_day_btc_smooth      5977 non-null   float64\n",
      " 30  avg_tx_per_block_smooth              5977 non-null   float64\n",
      " 31  median_confirmation_time_min_smooth  5977 non-null   float64\n",
      " 32  avg_confirmation_time_min_smooth     5977 non-null   float64\n",
      " 33  total_hash_rate_ths_smooth           5977 non-null   float64\n",
      " 34  network_difficulty_smooth            5977 non-null   float64\n",
      " 35  miners_revenue_usd_smooth            5977 non-null   float64\n",
      " 36  total_tx_fees_btc_smooth             5977 non-null   float64\n",
      " 37  blockchain_size_smooth               5977 non-null   float64\n",
      " 38  avg_block_size_smooth                5977 non-null   float64\n",
      " 39  UP_DOWN                              5977 non-null   int64  \n",
      " 40  RET_NEXT                             5977 non-null   float64\n",
      "dtypes: Int64(1), float64(39), int64(1)\n",
      "memory usage: 1.9 MB\n"
     ]
    }
   ],
   "source": [
    "hm.df_features.info()"
   ]
  },
  {
   "cell_type": "code",
   "execution_count": 4,
   "id": "167c14bb",
   "metadata": {},
   "outputs": [
    {
     "data": {
      "text/plain": [
       "Index(['EMA', 'MINUSDM', 'PLUSDM', 'CLOSE', 'CLOSEL1', 'CLOSEL2', 'PATT_3OUT',\n",
       "       'PATT_CMB', 'RSI', 'MACD', 'MACD_SIGNAL', 'MACD_HIST', 'ADX', 'ATR',\n",
       "       'NATR', 'BB_UPPER', 'BB_MIDDLE', 'BB_LOWER', 'BB_WIDTH', 'OBV', 'MFI',\n",
       "       'AD', 'ADOSC', 'STOCH_K', 'STOCH_D', 'fng_ordinal_smooth',\n",
       "       'fng_ordinal_smooth_int', 'unique_addresses_used_smooth',\n",
       "       'confirmed_tx_per_day_smooth', 'output_value_per_day_btc_smooth',\n",
       "       'avg_tx_per_block_smooth', 'median_confirmation_time_min_smooth',\n",
       "       'avg_confirmation_time_min_smooth', 'total_hash_rate_ths_smooth',\n",
       "       'network_difficulty_smooth', 'miners_revenue_usd_smooth',\n",
       "       'total_tx_fees_btc_smooth', 'blockchain_size_smooth',\n",
       "       'avg_block_size_smooth', 'UP_DOWN', 'RET_NEXT'],\n",
       "      dtype='object')"
      ]
     },
     "execution_count": 4,
     "metadata": {},
     "output_type": "execute_result"
    }
   ],
   "source": [
    "hm.df_features.columns"
   ]
  },
  {
   "cell_type": "code",
   "execution_count": 5,
   "id": "23f56fdd",
   "metadata": {},
   "outputs": [
    {
     "name": "stdout",
     "output_type": "stream",
     "text": [
      "Holdout metrics: {'cls_acc': 0.4866220735785953, 'reg_mae': 0.00689503005802104, 'reg_mape_like': 2.006588952794208}\n",
      "                             feature  importance_mean  importance_std\n",
      "0                                RSI         0.004013        0.012898\n",
      "1                        MACD_SIGNAL         0.003930        0.007299\n",
      "2           total_tx_fees_btc_smooth         0.003679        0.002155\n",
      "3                                ATR         0.002007        0.005599\n",
      "4                              ADOSC         0.001923        0.011118\n",
      "5                           PATT_CMB         0.001839        0.000729\n",
      "6                              CLOSE         0.001421        0.006368\n",
      "7                          BB_MIDDLE         0.001171        0.002429\n",
      "8                            CLOSEL2         0.000753        0.007060\n",
      "9   avg_confirmation_time_min_smooth         0.000753        0.002349\n",
      "10           avg_tx_per_block_smooth         0.000334        0.000766\n",
      "11         miners_revenue_usd_smooth         0.000167        0.001533\n",
      "12                           CLOSEL1         0.000084        0.005037\n",
      "13                fng_ordinal_smooth         0.000084        0.003930\n",
      "14                         PATT_3OUT         0.000000        0.000000\n",
      "        feature  importance_mean  importance_std\n",
      "0           RSI         0.000080        0.000019\n",
      "1            AD         0.000068        0.000019\n",
      "2       STOCH_D         0.000050        0.000028\n",
      "3      BB_LOWER         0.000048        0.000016\n",
      "4         CLOSE         0.000048        0.000025\n",
      "5           MFI         0.000047        0.000042\n",
      "6     MACD_HIST         0.000044        0.000023\n",
      "7           OBV         0.000036        0.000022\n",
      "8          MACD         0.000027        0.000010\n",
      "9      BB_UPPER         0.000025        0.000011\n",
      "10      CLOSEL1         0.000022        0.000009\n",
      "11  MACD_SIGNAL         0.000020        0.000022\n",
      "12         NATR         0.000019        0.000028\n",
      "13     BB_WIDTH         0.000019        0.000018\n",
      "14        ADOSC         0.000017        0.000015\n"
     ]
    }
   ],
   "source": [
    "metrics = mm.train_dual(X, y_cls, y_reg, test_size=0.2)\n",
    "print(\"Holdout metrics:\", metrics)\n",
    "\n",
    "# C) feature importance (permutation on classifier)\n",
    "imp_cls = mm.feature_importances(which=\"cls\", kind=\"auto\", scoring=\"accuracy\", n_repeats=10)\n",
    "print(imp_cls.head(15))\n",
    "\n",
    "# D) quick sanity: importance for regressor too\n",
    "imp_reg = mm.feature_importances(which=\"reg\", kind=\"auto\", scoring=\"neg_mean_absolute_error\", n_repeats=10)\n",
    "print(imp_reg.head(15))"
   ]
  },
  {
   "cell_type": "code",
   "execution_count": 6,
   "id": "d70045b3",
   "metadata": {},
   "outputs": [
    {
     "name": "stdout",
     "output_type": "stream",
     "text": [
      "Null accuracy: 0.5176509954826837\n"
     ]
    }
   ],
   "source": [
    "p1 = y_cls.mean()\n",
    "null_acc = max(p1, 1 - p1)\n",
    "print(\"Null accuracy:\", null_acc)\n"
   ]
  },
  {
   "cell_type": "code",
   "execution_count": 7,
   "id": "a95e65b4",
   "metadata": {},
   "outputs": [
    {
     "name": "stdout",
     "output_type": "stream",
     "text": [
      "AUC: 0.4894319960354236\n",
      "Balanced Acc: 0.4844006798016592\n",
      "MCC: -0.03142754977400782\n"
     ]
    }
   ],
   "source": [
    "from sklearn.metrics import roc_auc_score, balanced_accuracy_score, matthews_corrcoef\n",
    "y_hat = mm.cls_pipe.predict(mm._X_te)\n",
    "p_hat = mm.cls_pipe.predict_proba(mm._X_te)[:,1]\n",
    "print(\"AUC:\", roc_auc_score(mm._yc_te, p_hat))\n",
    "print(\"Balanced Acc:\", balanced_accuracy_score(mm._yc_te, y_hat))\n",
    "print(\"MCC:\", matthews_corrcoef(mm._yc_te, y_hat))\n"
   ]
  },
  {
   "cell_type": "code",
   "execution_count": 8,
   "id": "53deaa89",
   "metadata": {},
   "outputs": [
    {
     "name": "stdout",
     "output_type": "stream",
     "text": [
      "MAE model: 0.00689503005802104 MAE naive: 0.006521660001752204 Skill: -0.0572507699218483\n"
     ]
    }
   ],
   "source": [
    "import numpy as np\n",
    "y_true = mm._yr_te.values\n",
    "y_pred = mm.reg_pipe.predict(mm._X_te)\n",
    "mae_model = np.mean(np.abs(y_true - y_pred))\n",
    "mae_naive = np.mean(np.abs(y_true - 0.0))\n",
    "print(\"MAE model:\", mae_model, \"MAE naive:\", mae_naive, \"Skill:\", 1 - mae_model/mae_naive)\n"
   ]
  },
  {
   "cell_type": "code",
   "execution_count": null,
   "id": "1c59a753",
   "metadata": {},
   "outputs": [],
   "source": []
  }
 ],
 "metadata": {
  "kernelspec": {
   "display_name": "venv (3.13.5)",
   "language": "python",
   "name": "python3"
  },
  "language_info": {
   "codemirror_mode": {
    "name": "ipython",
    "version": 3
   },
   "file_extension": ".py",
   "mimetype": "text/x-python",
   "name": "python",
   "nbconvert_exporter": "python",
   "pygments_lexer": "ipython3",
   "version": "3.13.5"
  }
 },
 "nbformat": 4,
 "nbformat_minor": 5
}
